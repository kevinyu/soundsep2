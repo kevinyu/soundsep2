{
 "cells": [
  {
   "cell_type": "code",
   "execution_count": 4,
   "id": "1b3c75b1-0d0a-4a86-bfa2-62de1f494018",
   "metadata": {},
   "outputs": [],
   "source": [
    "from pathlib import Path\n",
    "from typing import List, Tuple\n",
    "\n",
    "import matplotlib.pyplot as plt\n",
    "import numpy as np\n",
    "import pandas as pd\n",
    "import torch\n",
    "from torch import nn\n",
    "\n",
    "from soundsep import open_project"
   ]
  },
  {
   "cell_type": "code",
   "execution_count": 5,
   "outputs": [],
   "source": [
    "%load_ext autoreload\n",
    "%autoreload 2"
   ],
   "metadata": {
    "collapsed": false,
    "pycharm": {
     "name": "#%%\n"
    }
   }
  },
  {
   "cell_type": "code",
   "execution_count": 6,
   "id": "ea98f688-6125-45a8-86c0-c82c45b1fe2e",
   "metadata": {},
   "outputs": [],
   "source": [
    "project = open_project(Path(\"../../CanaryProject/data/syllable_data/Group3\"))"
   ]
  },
  {
   "cell_type": "code",
   "execution_count": 7,
   "id": "7dbceca9-b6df-44c9-979e-05c35977a3da",
   "metadata": {},
   "outputs": [
    {
     "data": {
      "text/plain": "<Project: 52 blocks>"
     },
     "execution_count": 7,
     "metadata": {},
     "output_type": "execute_result"
    }
   ],
   "source": [
    "project"
   ]
  },
  {
   "cell_type": "markdown",
   "id": "ce7045ee-d532-4eb9-b20f-79d06baf7c5c",
   "metadata": {},
   "source": [
    "## Incremental training of model\n",
    "\n",
    "Train on 10 minutes, test on next 10 minutes...\n",
    "\n",
    "1. Define the model (2 layer convolutional network)\n",
    "\n",
    "2. Define a data loader to train a given time range\n",
    "\n",
    "3. Train on time range\n",
    "\n",
    "4. Plot training data and prediction data"
   ]
  },
  {
   "cell_type": "code",
   "execution_count": 8,
   "outputs": [],
   "source": [
    "from soundsep_prediction.dataset import DatasetParameters, SoundsepAudioDataset\n",
    "from soundsep_prediction.fit import partial_fit, partial_predict, partial_test\n",
    "from soundsep_prediction.models import PredictionNetwork\n",
    "from torch.utils.data import DataLoader\n",
    "\n",
    "segments = pd.read_csv(\"../../CanaryProject/data/syllable_data/Group6/_appdata/save/segments.csv\")\n",
    "\n",
    "dataset = SoundsepAudioDataset(\n",
    "    project_dir=Path(\"../../CanaryProject/data/syllable_data/Group6\"),\n",
    "    syllable_table=segments,\n",
    "    source_names=segments.SourceName.unique()\n",
    ")"
   ],
   "metadata": {
    "collapsed": false,
    "pycharm": {
     "name": "#%%\n"
    }
   }
  },
  {
   "cell_type": "code",
   "execution_count": 9,
   "outputs": [],
   "source": [
    "def get_loader(start_index: int, stop_index: int, batch_size: int = 64, shuffle: bool = False, workers: int = 0):\n",
    "    \"\"\"Get a torch DataLoader from start_index to stop_index (in project indices)\"\"\"\n",
    "    ds = SoundsepAudioDataset(\n",
    "        project_dir=Path(\"../../CanaryProject/data/syllable_data/Group6\"),\n",
    "        syllable_table=segments,\n",
    "        source_names=segments.SourceName.unique(),\n",
    "        params=DatasetParameters(\n",
    "            from_index=start_index,\n",
    "            until_index=stop_index\n",
    "        )\n",
    "    )\n",
    "    return DataLoader(ds, batch_size=batch_size, shuffle=shuffle, num_workers=workers)"
   ],
   "metadata": {
    "collapsed": false,
    "pycharm": {
     "name": "#%%\n"
    }
   }
  },
  {
   "cell_type": "code",
   "execution_count": 10,
   "id": "6b89cbc5-135b-45a8-8125-8cf7d9839129",
   "metadata": {},
   "outputs": [],
   "source": [
    "dl = get_loader(40000, 90000, 64)"
   ]
  },
  {
   "cell_type": "code",
   "execution_count": 11,
   "outputs": [],
   "source": [
    "model = PredictionNetwork(channels=4, output_channels=3)"
   ],
   "metadata": {
    "collapsed": false,
    "pycharm": {
     "name": "#%%\n"
    }
   }
  },
  {
   "cell_type": "code",
   "execution_count": 12,
   "outputs": [],
   "source": [
    "x1, y1 = next(iter(dl))"
   ],
   "metadata": {
    "collapsed": false,
    "pycharm": {
     "name": "#%%\n"
    }
   }
  },
  {
   "cell_type": "code",
   "execution_count": 13,
   "outputs": [],
   "source": [
    "spec = model.spec(x1)"
   ],
   "metadata": {
    "collapsed": false,
    "pycharm": {
     "name": "#%%\n"
    }
   }
  },
  {
   "cell_type": "code",
   "execution_count": 14,
   "outputs": [
    {
     "data": {
      "text/plain": "<matplotlib.collections.QuadMesh at 0x1290c9820>"
     },
     "execution_count": 14,
     "metadata": {},
     "output_type": "execute_result"
    },
    {
     "data": {
      "text/plain": "<Figure size 432x288 with 1 Axes>",
      "image/png": "[encoded data removed]"
     },
     "metadata": {
      "needs_background": "light"
     },
     "output_type": "display_data"
    }
   ],
   "source": [
    "plt.pcolormesh(spec[50][0], cmap=\"turbo\")"
   ],
   "metadata": {
    "collapsed": false,
    "pycharm": {
     "name": "#%%\n"
    }
   }
  },
  {
   "cell_type": "code",
   "source": [
    "model.layers(x1).shape"
   ],
   "metadata": {
    "collapsed": false,
    "pycharm": {
     "name": "#%%\n"
    }
   },
   "execution_count": 15,
   "outputs": [
    {
     "data": {
      "text/plain": "torch.Size([64, 2048])"
     },
     "execution_count": 15,
     "metadata": {},
     "output_type": "execute_result"
    }
   ]
  },
  {
   "cell_type": "code",
   "execution_count": 16,
   "outputs": [
    {
     "data": {
      "text/plain": "tensor([[-1.7175e-01, -1.1745e-01, -1.9571e-01],\n        [ 8.4210e-02, -6.5318e-02, -1.8026e-01],\n        [-1.4298e-01, -1.8249e-01, -3.2463e-02],\n        [-9.4821e-02, -2.0617e-01, -4.4653e-01],\n        [-9.9269e-02, -7.9470e-02, -1.5141e-01],\n        [-1.9584e-01, -1.9678e-01, -2.0427e-01],\n        [-2.9993e-01, -6.1139e-02, -4.5439e-01],\n        [-1.6614e-01, -6.9729e-02, -2.6707e-01],\n        [-4.9532e-02,  2.3238e-02, -4.1332e-01],\n        [-6.0525e-02, -1.9423e-01, -1.9616e-01],\n        [-1.8674e-01, -9.3717e-02, -1.2145e-01],\n        [-4.3419e-01, -1.5914e-01, -1.6617e-01],\n        [-2.3622e-01, -4.7214e-02, -1.9640e-01],\n        [-2.4118e-01, -8.7821e-02, -1.5309e-01],\n        [-4.3127e-01, -5.0927e-02, -1.4425e-01],\n        [-3.2031e-01,  9.2895e-02, -2.4446e-01],\n        [-3.2755e-01,  2.8061e-02, -2.4591e-01],\n        [-3.2960e-01,  1.9690e-01, -1.9587e-01],\n        [-2.0548e-01, -1.3466e-01, -2.3719e-01],\n        [-8.8877e-02,  7.3420e-02, -2.1239e-01],\n        [-2.4371e-01, -5.8407e-02, -3.0889e-01],\n        [-6.5188e-02, -1.6314e-01, -3.2459e-01],\n        [-4.9177e-01, -1.1139e-02, -2.6924e-02],\n        [-1.7590e-01,  1.2449e-01, -1.4240e-01],\n        [-2.7239e-01, -1.2126e-01, -1.1711e-01],\n        [-1.5522e-01,  1.2902e-01, -1.5240e-01],\n        [-1.4673e-01,  9.8991e-02, -1.2805e-03],\n        [-1.7262e-01, -8.9494e-02, -2.7946e-02],\n        [-2.1168e-01,  8.2803e-02, -8.7076e-02],\n        [-2.7429e-01, -3.4000e-02,  3.6805e-02],\n        [-2.0972e-01,  2.6067e-01,  1.6128e-02],\n        [-4.1294e-02,  9.2350e-02, -1.4612e-01],\n        [-1.9550e-01,  3.4027e-02, -9.6041e-02],\n        [-2.8788e-02,  1.3009e-01,  2.6073e-02],\n        [ 2.4424e-02, -5.1779e-02,  2.6668e-01],\n        [-8.7468e-02,  3.2440e-02,  1.0621e-01],\n        [-1.5962e-01,  1.0350e-01,  2.1673e-02],\n        [-2.6335e-02,  5.6775e-02,  4.5030e-02],\n        [-7.4302e-02, -2.9711e-02, -1.6660e-01],\n        [-9.8386e-02,  4.6800e-02,  2.2197e-01],\n        [ 1.3891e-01, -7.7360e-02,  1.3533e-01],\n        [ 2.4285e-01,  6.8200e-02,  1.0483e-01],\n        [ 1.5966e-02, -1.5432e-02, -4.4408e-02],\n        [ 4.8864e-03,  3.7587e-02,  1.3917e-01],\n        [ 4.8690e-02, -1.2317e-01,  3.5130e-02],\n        [ 9.0217e-02,  3.0358e-02, -7.6006e-02],\n        [ 1.7749e-01, -8.5070e-02,  3.4689e-02],\n        [ 1.5467e-01, -1.0702e-04,  1.9077e-01],\n        [ 2.5959e-01, -1.4444e-01, -7.2380e-02],\n        [ 1.7715e-01,  1.1137e-01,  2.8118e-03],\n        [ 3.8298e-01,  6.1524e-02,  1.0640e-01],\n        [-9.0245e-03, -5.9131e-02, -1.6639e-01],\n        [-2.1623e-02, -1.3466e-01, -6.7966e-02],\n        [ 1.6468e-01, -8.6586e-02,  4.1352e-02],\n        [ 2.0854e-02, -2.6722e-01,  2.8941e-02],\n        [-4.5557e-02, -2.2721e-01, -1.6970e-01],\n        [ 1.7088e-01, -9.4143e-02,  2.5159e-02],\n        [ 6.0974e-02, -6.7993e-03, -4.6744e-02],\n        [ 2.4863e-01, -9.0473e-02, -1.4780e-02],\n        [ 9.5707e-02, -8.2273e-02, -2.3585e-01],\n        [ 3.1984e-01, -1.7406e-01, -1.2045e-01],\n        [ 2.0571e-01, -2.1026e-01, -3.8029e-02],\n        [ 9.2385e-02,  2.9322e-02, -1.2403e-01],\n        [ 9.5802e-02, -1.6894e-01, -3.2606e-01]], grad_fn=<AddmmBackward0>)"
     },
     "execution_count": 16,
     "metadata": {},
     "output_type": "execute_result"
    }
   ],
   "source": [
    "model(x1)"
   ],
   "metadata": {
    "collapsed": false,
    "pycharm": {
     "name": "#%%\n"
    }
   }
  },
  {
   "cell_type": "code",
   "execution_count": 17,
   "outputs": [],
   "source": [
    "loss = nn.BCEWithLogitsLoss()\n",
    "opt = torch.optim.SGD(model.parameters(), lr=0.2)"
   ],
   "metadata": {
    "collapsed": false,
    "pycharm": {
     "name": "#%%\n"
    }
   }
  },
  {
   "cell_type": "code",
   "execution_count": 18,
   "outputs": [
    {
     "data": {
      "text/plain": "0.19043218948229582"
     },
     "execution_count": 18,
     "metadata": {},
     "output_type": "execute_result"
    }
   ],
   "source": [
    "partial_fit(1, model, loss, opt, get_loader(0, 44100, 64 * 2, shuffle=True))"
   ],
   "metadata": {
    "collapsed": false,
    "pycharm": {
     "name": "#%%\n"
    }
   }
  },
  {
   "cell_type": "code",
   "execution_count": 19,
   "outputs": [
    {
     "data": {
      "text/plain": "0.09492896260794051"
     },
     "execution_count": 19,
     "metadata": {},
     "output_type": "execute_result"
    }
   ],
   "source": [
    "partial_fit(1, model, loss, opt, get_loader(44100, 88200, 64 * 2, shuffle=True))"
   ],
   "metadata": {
    "collapsed": false,
    "pycharm": {
     "name": "#%%\n"
    }
   }
  },
  {
   "cell_type": "code",
   "execution_count": 20,
   "outputs": [],
   "source": [
    "y_pred, y_true = partial_predict(model, get_loader(44100, 88200, 64 * 2))"
   ],
   "metadata": {
    "collapsed": false,
    "pycharm": {
     "name": "#%%\n"
    }
   }
  },
  {
   "cell_type": "code",
   "execution_count": 21,
   "outputs": [
    {
     "data": {
      "text/plain": "<Figure size 432x288 with 1 Axes>",
      "image/png": "[encoded data removed]"
     },
     "metadata": {
      "needs_background": "light"
     },
     "output_type": "display_data"
    }
   ],
   "source": [
    "plt.pcolormesh(y_pred.detach().numpy().T, cmap=\"Greys\")\n",
    "plt.clim(0, 1)"
   ],
   "metadata": {
    "collapsed": false,
    "pycharm": {
     "name": "#%%\n"
    }
   }
  },
  {
   "cell_type": "code",
   "execution_count": 22,
   "outputs": [
    {
     "data": {
      "text/plain": "<Figure size 432x288 with 1 Axes>",
      "image/png": "[encoded data removed]"
     },
     "metadata": {
      "needs_background": "light"
     },
     "output_type": "display_data"
    }
   ],
   "source": [
    "plt.pcolormesh(y_true.detach().numpy().T, cmap=\"Greys\")\n",
    "plt.clim(0, 1)"
   ],
   "metadata": {
    "collapsed": false,
    "pycharm": {
     "name": "#%%\n"
    }
   }
  },
  {
   "cell_type": "code",
   "execution_count": 23,
   "outputs": [
    {
     "data": {
      "text/plain": "torch.Size([2004, 3])"
     },
     "execution_count": 23,
     "metadata": {},
     "output_type": "execute_result"
    }
   ],
   "source": [
    "y_true.shape"
   ],
   "metadata": {
    "collapsed": false,
    "pycharm": {
     "name": "#%%\n"
    }
   }
  },
  {
   "cell_type": "code",
   "execution_count": 24,
   "outputs": [
    {
     "data": {
      "text/plain": "0.12097388880105796"
     },
     "execution_count": 24,
     "metadata": {},
     "output_type": "execute_result"
    }
   ],
   "source": [
    "partial_test(model, loss, get_loader(1000, 6000, 64 * 2))"
   ],
   "metadata": {
    "collapsed": false,
    "pycharm": {
     "name": "#%%\n"
    }
   }
  },
  {
   "cell_type": "code",
   "execution_count": null,
   "outputs": [],
   "source": [
    "model = PredictionNetwork(channels=4, output_channels=3)\n",
    "loss = nn.BCEWithLogitsLoss()"
   ],
   "metadata": {
    "collapsed": false,
    "pycharm": {
     "name": "#%%\n"
    }
   }
  },
  {
   "cell_type": "code",
   "execution_count": 3,
   "outputs": [
    {
     "ename": "NameError",
     "evalue": "name 'torch' is not defined",
     "output_type": "error",
     "traceback": [
      "\u001B[0;31m---------------------------------------------------------------------------\u001B[0m",
      "\u001B[0;31mNameError\u001B[0m                                 Traceback (most recent call last)",
      "Input \u001B[0;32mIn [3]\u001B[0m, in \u001B[0;36m<cell line: 1>\u001B[0;34m()\u001B[0m\n\u001B[0;32m----> 1\u001B[0m opt \u001B[38;5;241m=\u001B[39m \u001B[43mtorch\u001B[49m\u001B[38;5;241m.\u001B[39moptim\u001B[38;5;241m.\u001B[39mAdam(model\u001B[38;5;241m.\u001B[39mparameters(), lr\u001B[38;5;241m=\u001B[39m\u001B[38;5;241m1e-3\u001B[39m)\n\u001B[1;32m      3\u001B[0m dt \u001B[38;5;241m=\u001B[39m \u001B[38;5;241m44100\u001B[39m \u001B[38;5;241m*\u001B[39m \u001B[38;5;241m2\u001B[39m\n\u001B[1;32m      4\u001B[0m \u001B[38;5;28;01mfor\u001B[39;00m i \u001B[38;5;129;01min\u001B[39;00m \u001B[38;5;28mrange\u001B[39m(\u001B[38;5;241m60\u001B[39m, \u001B[38;5;241m80\u001B[39m):\n",
      "\u001B[0;31mNameError\u001B[0m: name 'torch' is not defined"
     ]
    }
   ],
   "source": [
    "opt = torch.optim.Adam(model.parameters(), lr=1e-3)\n",
    "\n",
    "dt = 44100 * 2\n",
    "for i in range(60, 80):\n",
    "    t0 = i * dt\n",
    "    t1 = (i + 1) * dt\n",
    "    t2 = (i + 2) * dt\n",
    "\n",
    "    train_loss = partial_fit(2, model, loss, opt, get_loader(t0, t1, 64, shuffle=True))\n",
    "    print(f\"Loss of {train_loss:.5f} after training\")\n",
    "\n",
    "    # test_loss = partial_test(model, loss, get_loader(t1, t2, 128, workers=4))\n",
    "    # print(f\"Loss of {test_loss:.5f} on next chunk\")\n",
    "\n",
    "    y_pred, y_true = partial_predict(model, get_loader(t1, t2, 64))\n",
    "\n",
    "    fig = plt.figure(figsize=(12, 4))\n",
    "    plt.subplot(1, 2, 1)\n",
    "    plt.pcolormesh(y_pred.detach().numpy().T, cmap=\"Greys\")\n",
    "    plt.clim(0, 1)\n",
    "    plt.subplot(1, 2, 2)\n",
    "    plt.pcolormesh(y_true.detach().numpy().T, cmap=\"Greys\")\n",
    "    plt.clim(0, 1)\n",
    "    plt.show()\n",
    "    plt.close(fig)\n",
    "\n",
    "    first_window_loss = partial_test(model, loss, get_loader(0, dt, 64))\n",
    "    print(f\"Loss of {first_window_loss:.5f} on first window\")\n",
    "\n",
    "    print()"
   ],
   "metadata": {
    "collapsed": false,
    "pycharm": {
     "name": "#%%\n"
    }
   }
  },
  {
   "cell_type": "code",
   "execution_count": 1,
   "outputs": [
    {
     "ename": "NameError",
     "evalue": "name 'plt' is not defined",
     "output_type": "error",
     "traceback": [
      "\u001B[0;31m---------------------------------------------------------------------------\u001B[0m",
      "\u001B[0;31mNameError\u001B[0m                                 Traceback (most recent call last)",
      "Input \u001B[0;32mIn [1]\u001B[0m, in \u001B[0;36m<cell line: 1>\u001B[0;34m()\u001B[0m\n\u001B[0;32m----> 1\u001B[0m \u001B[43mplt\u001B[49m\u001B[38;5;241m.\u001B[39mpcolormesh(y1\u001B[38;5;241m.\u001B[39msqueeze()\u001B[38;5;241m.\u001B[39mT)\n",
      "\u001B[0;31mNameError\u001B[0m: name 'plt' is not defined"
     ]
    }
   ],
   "source": [
    "plt.pcolormesh(y1.squeeze().T)"
   ],
   "metadata": {
    "collapsed": false,
    "pycharm": {
     "name": "#%%\n"
    }
   }
  },
  {
   "cell_type": "code",
   "execution_count": 2,
   "outputs": [
    {
     "name": "stdout",
     "output_type": "stream",
     "text": [
      "hi\n"
     ]
    }
   ],
   "source": [
    "print(\"hi\")"
   ],
   "metadata": {
    "collapsed": false,
    "pycharm": {
     "name": "#%%\n"
    }
   }
  },
  {
   "cell_type": "code",
   "execution_count": null,
   "outputs": [],
   "source": [],
   "metadata": {
    "collapsed": false,
    "pycharm": {
     "name": "#%%\n"
    }
   }
  }
 ],
 "metadata": {
  "kernelspec": {
   "display_name": "Python 3 (ipykernel)",
   "language": "python",
   "name": "python3"
  },
  "language_info": {
   "codemirror_mode": {
    "name": "ipython",
    "version": 3
   },
   "file_extension": ".py",
   "mimetype": "text/x-python",
   "name": "python",
   "nbconvert_exporter": "python",
   "pygments_lexer": "ipython3",
   "version": "3.9.10"
  }
 },
 "nbformat": 4,
 "nbformat_minor": 5
}