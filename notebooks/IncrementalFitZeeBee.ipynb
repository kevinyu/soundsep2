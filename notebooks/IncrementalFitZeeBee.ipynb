{
 "cells": [
  {
   "cell_type": "code",
   "execution_count": 1,
   "id": "1b3c75b1-0d0a-4a86-bfa2-62de1f494018",
   "metadata": {},
   "outputs": [],
   "source": [
    "from pathlib import Path\n",
    "from typing import List, Tuple\n",
    "\n",
    "import matplotlib.pyplot as plt\n",
    "import numpy as np\n",
    "import pandas as pd\n",
    "import torch\n",
    "from torch import nn\n",
    "\n",
    "from soundsep import open_project"
   ]
  },
  {
   "cell_type": "code",
   "execution_count": 2,
   "metadata": {
    "collapsed": false,
    "pycharm": {
     "name": "#%%\n"
    }
   },
   "outputs": [],
   "source": [
    "%load_ext autoreload\n",
    "%autoreload 2"
   ]
  },
  {
   "cell_type": "code",
   "execution_count": 3,
   "id": "ea98f688-6125-45a8-86c0-c82c45b1fe2e",
   "metadata": {},
   "outputs": [],
   "source": [
    "project_dir = \"/Users/frederictheunissen/Local Data/SocialZF\"\n",
    "project = open_project(Path(project_dir))"
   ]
  },
  {
   "cell_type": "markdown",
   "id": "ce7045ee-d532-4eb9-b20f-79d06baf7c5c",
   "metadata": {},
   "source": [
    "## Incremental training of model\n",
    "\n",
    "Train on 10 minutes, test on next 10 minutes...\n",
    "\n",
    "1. Define the model (2 layer convolutional network)\n",
    "\n",
    "2. Define a data loader to train a given time range\n",
    "\n",
    "3. Train on time range\n",
    "\n",
    "4. Plot training data and prediction data"
   ]
  },
  {
   "cell_type": "code",
   "execution_count": 4,
   "metadata": {
    "collapsed": false,
    "pycharm": {
     "name": "#%%\n"
    }
   },
   "outputs": [],
   "source": [
    "from soundsep_prediction.dataset import DatasetParameters, SoundsepAudioDataset\n",
    "from soundsep_prediction.fit import partial_fit, partial_predict, partial_test\n",
    "from soundsep_prediction.models import PredictionNetwork\n",
    "from soundsep_prediction.stft import StftParameters\n",
    "from torch.utils.data import DataLoader\n",
    "from torch import nn\n",
    "\n",
    "segments = pd.read_csv(project_dir + \"/_appdata/save/segments.csv\")\n",
    "\n",
    "# Time-frequency scale and temporal resolution of short-time fourier transform (stft)\n",
    "\n",
    "stft_params = StftParameters()\n",
    "stft_params.sample_rate = project.sampling_rate\n",
    "stft_params.half_window = int(10e-3*project.sampling_rate) # 10 ms half window\n",
    "stft_params.hop = int(5e-3*project.sampling_rate)  # 5 ms sliding window\n",
    "\n",
    "\n",
    "dataset = SoundsepAudioDataset(\n",
    "    project_dir=Path(project_dir),\n",
    "    syllable_table=segments,\n",
    "    source_names=segments.SourceName.unique(),\n",
    "    stft_params = stft_params\n",
    ")"
   ]
  },
  {
   "cell_type": "code",
   "execution_count": 5,
   "metadata": {},
   "outputs": [],
   "source": [
    "nIn = project.channels\n",
    "nOut = len(segments.SourceName.unique())"
   ]
  },
  {
   "cell_type": "code",
   "execution_count": 6,
   "metadata": {
    "collapsed": false,
    "pycharm": {
     "name": "#%%\n"
    }
   },
   "outputs": [],
   "source": [
    "def get_loader(start_index: int, stop_index: int, batch_size: int = 64, shuffle: bool = False, workers: int = 0):\n",
    "    \"\"\"Get a torch DataLoader from start_index to stop_index (in project indices)\"\"\"\n",
    "    \n",
    "    stft_params = StftParameters()\n",
    "    stft_params.sample_rate = project.sampling_rate\n",
    "    stft_params.half_window = int(10e-3*project.sampling_rate) # 10 ms half window\n",
    "    stft_params.hop = int(5e-3*project.sampling_rate)  # 5 ms sliding window\n",
    "    \n",
    "    ds = SoundsepAudioDataset(\n",
    "        project_dir=Path(project_dir),\n",
    "        syllable_table=segments,\n",
    "        source_names=segments.SourceName.unique(),\n",
    "        params=DatasetParameters(\n",
    "            from_index=start_index,\n",
    "            until_index=stop_index\n",
    "        ),\n",
    "        stft_params = stft_params\n",
    "    )\n",
    "    return DataLoader(ds, batch_size=batch_size, shuffle=shuffle, num_workers=workers)"
   ]
  },
  {
   "cell_type": "code",
   "execution_count": 7,
   "id": "6b89cbc5-135b-45a8-8125-8cf7d9839129",
   "metadata": {},
   "outputs": [],
   "source": [
    "dl = get_loader(0, 4100000, 64)"
   ]
  },
  {
   "cell_type": "code",
   "execution_count": 8,
   "metadata": {},
   "outputs": [
    {
     "data": {
      "text/html": [
       "<div>\n",
       "<style scoped>\n",
       "    .dataframe tbody tr th:only-of-type {\n",
       "        vertical-align: middle;\n",
       "    }\n",
       "\n",
       "    .dataframe tbody tr th {\n",
       "        vertical-align: top;\n",
       "    }\n",
       "\n",
       "    .dataframe thead th {\n",
       "        text-align: right;\n",
       "    }\n",
       "</style>\n",
       "<table border=\"1\" class=\"dataframe\">\n",
       "  <thead>\n",
       "    <tr style=\"text-align: right;\">\n",
       "      <th></th>\n",
       "      <th>Unnamed: 0</th>\n",
       "      <th>SourceName</th>\n",
       "      <th>SourceChannel</th>\n",
       "      <th>StartIndex</th>\n",
       "      <th>StopIndex</th>\n",
       "      <th>Tags</th>\n",
       "    </tr>\n",
       "  </thead>\n",
       "  <tbody>\n",
       "    <tr>\n",
       "      <th>0</th>\n",
       "      <td>0</td>\n",
       "      <td>7 F</td>\n",
       "      <td>4</td>\n",
       "      <td>1965</td>\n",
       "      <td>5608</td>\n",
       "      <td>[\"DC\"]</td>\n",
       "    </tr>\n",
       "    <tr>\n",
       "      <th>1</th>\n",
       "      <td>1</td>\n",
       "      <td>4 M</td>\n",
       "      <td>1</td>\n",
       "      <td>7921</td>\n",
       "      <td>11282</td>\n",
       "      <td>[\"Te\"]</td>\n",
       "    </tr>\n",
       "    <tr>\n",
       "      <th>2</th>\n",
       "      <td>2</td>\n",
       "      <td>6 F</td>\n",
       "      <td>3</td>\n",
       "      <td>16612</td>\n",
       "      <td>18858</td>\n",
       "      <td>[\"Te\"]</td>\n",
       "    </tr>\n",
       "    <tr>\n",
       "      <th>3</th>\n",
       "      <td>3</td>\n",
       "      <td>7 F</td>\n",
       "      <td>4</td>\n",
       "      <td>18491</td>\n",
       "      <td>26651</td>\n",
       "      <td>[\"Be\"]</td>\n",
       "    </tr>\n",
       "    <tr>\n",
       "      <th>4</th>\n",
       "      <td>4</td>\n",
       "      <td>6 F</td>\n",
       "      <td>3</td>\n",
       "      <td>36030</td>\n",
       "      <td>37736</td>\n",
       "      <td>[\"Te\"]</td>\n",
       "    </tr>\n",
       "    <tr>\n",
       "      <th>...</th>\n",
       "      <td>...</td>\n",
       "      <td>...</td>\n",
       "      <td>...</td>\n",
       "      <td>...</td>\n",
       "      <td>...</td>\n",
       "      <td>...</td>\n",
       "    </tr>\n",
       "    <tr>\n",
       "      <th>269</th>\n",
       "      <td>269</td>\n",
       "      <td>7 F</td>\n",
       "      <td>4</td>\n",
       "      <td>3991039</td>\n",
       "      <td>3993070</td>\n",
       "      <td>[\"Te\"]</td>\n",
       "    </tr>\n",
       "    <tr>\n",
       "      <th>270</th>\n",
       "      <td>270</td>\n",
       "      <td>5 M</td>\n",
       "      <td>2</td>\n",
       "      <td>4027508</td>\n",
       "      <td>4028493</td>\n",
       "      <td>[\"Te\"]</td>\n",
       "    </tr>\n",
       "    <tr>\n",
       "      <th>271</th>\n",
       "      <td>271</td>\n",
       "      <td>6 F</td>\n",
       "      <td>3</td>\n",
       "      <td>4031643</td>\n",
       "      <td>4033288</td>\n",
       "      <td>[\"Te\"]</td>\n",
       "    </tr>\n",
       "    <tr>\n",
       "      <th>272</th>\n",
       "      <td>272</td>\n",
       "      <td>7 F</td>\n",
       "      <td>4</td>\n",
       "      <td>4039828</td>\n",
       "      <td>4041945</td>\n",
       "      <td>[\"Te\"]</td>\n",
       "    </tr>\n",
       "    <tr>\n",
       "      <th>273</th>\n",
       "      <td>273</td>\n",
       "      <td>6 F</td>\n",
       "      <td>3</td>\n",
       "      <td>4084977</td>\n",
       "      <td>4086720</td>\n",
       "      <td>[\"Te\"]</td>\n",
       "    </tr>\n",
       "  </tbody>\n",
       "</table>\n",
       "<p>274 rows × 6 columns</p>\n",
       "</div>"
      ],
      "text/plain": [
       "     Unnamed: 0 SourceName  SourceChannel  StartIndex  StopIndex    Tags\n",
       "0             0        7 F              4        1965       5608  [\"DC\"]\n",
       "1             1        4 M              1        7921      11282  [\"Te\"]\n",
       "2             2        6 F              3       16612      18858  [\"Te\"]\n",
       "3             3        7 F              4       18491      26651  [\"Be\"]\n",
       "4             4        6 F              3       36030      37736  [\"Te\"]\n",
       "..          ...        ...            ...         ...        ...     ...\n",
       "269         269        7 F              4     3991039    3993070  [\"Te\"]\n",
       "270         270        5 M              2     4027508    4028493  [\"Te\"]\n",
       "271         271        6 F              3     4031643    4033288  [\"Te\"]\n",
       "272         272        7 F              4     4039828    4041945  [\"Te\"]\n",
       "273         273        6 F              3     4084977    4086720  [\"Te\"]\n",
       "\n",
       "[274 rows x 6 columns]"
      ]
     },
     "execution_count": 8,
     "metadata": {},
     "output_type": "execute_result"
    }
   ],
   "source": [
    "dl.dataset.syllable_table"
   ]
  },
  {
   "cell_type": "code",
   "execution_count": 9,
   "metadata": {
    "collapsed": false,
    "pycharm": {
     "name": "#%%\n"
    }
   },
   "outputs": [],
   "source": [
    "model = PredictionNetwork(channels=nIn, output_channels=nOut)"
   ]
  },
  {
   "cell_type": "code",
   "execution_count": 10,
   "metadata": {
    "collapsed": false,
    "pycharm": {
     "name": "#%%\n"
    }
   },
   "outputs": [],
   "source": [
    "x1, y1 = next(iter(dl))"
   ]
  },
  {
   "cell_type": "code",
   "execution_count": 11,
   "metadata": {
    "collapsed": false,
    "pycharm": {
     "name": "#%%\n"
    }
   },
   "outputs": [
    {
     "data": {
      "text/plain": [
       "<matplotlib.collections.QuadMesh at 0x7f7f50a4bc40>"
      ]
     },
     "execution_count": 11,
     "metadata": {},
     "output_type": "execute_result"
    },
    {
     "data": {
      "image/png": "[encoded data removed]",
      "text/plain": [
       "<Figure size 432x288 with 1 Axes>"
      ]
     },
     "metadata": {
      "needs_background": "light"
     },
     "output_type": "display_data"
    }
   ],
   "source": [
    "# Display the operation performed on the first layer of the nn: the spectrogram\n",
    "spec = model.spec(x1)\n",
    "plt.pcolormesh(spec[60][2], cmap=\"turbo\")"
   ]
  },
  {
   "cell_type": "code",
   "execution_count": 13,
   "metadata": {},
   "outputs": [],
   "source": [
    "# Checking out the size of the output layer\n",
    "outputLayer = model.layers(x1)\n",
    "outLayerN = outputLayer.shape[1]\n",
    "\n",
    "# Fix the size of last layer in the NN model\n",
    "model.out_layer = nn.Linear(outLayerN, nOut)"
   ]
  },
  {
   "cell_type": "code",
   "execution_count": 14,
   "metadata": {
    "collapsed": false,
    "pycharm": {
     "name": "#%%\n"
    }
   },
   "outputs": [],
   "source": [
    "loss = nn.BCEWithLogitsLoss()\n",
    "opt = torch.optim.SGD(model.parameters(), lr=0.2)"
   ]
  },
  {
   "cell_type": "code",
   "execution_count": 15,
   "metadata": {
    "collapsed": false,
    "pycharm": {
     "name": "#%%\n"
    }
   },
   "outputs": [
    {
     "data": {
      "application/vnd.jupyter.widget-view+json": {
       "model_id": "ceed87bf387a4f01a2e5020d20f5128a",
       "version_major": 2,
       "version_minor": 0
      },
      "text/plain": [
       "  0%|          | 0/72 [00:00<?, ?it/s]"
      ]
     },
     "metadata": {},
     "output_type": "display_data"
    },
    {
     "data": {
      "text/plain": [
       "0.1526388848030364"
      ]
     },
     "execution_count": 15,
     "metadata": {},
     "output_type": "execute_result"
    }
   ],
   "source": [
    "partial_fit(1, model, loss, opt, get_loader(0, 1000000, 64 * 2, shuffle=True))"
   ]
  },
  {
   "cell_type": "code",
   "execution_count": 16,
   "metadata": {
    "collapsed": false,
    "pycharm": {
     "name": "#%%\n"
    }
   },
   "outputs": [],
   "source": [
    "y_pred, y_true = partial_predict(model, get_loader(1000000, 1050000, 64 * 2))"
   ]
  },
  {
   "cell_type": "code",
   "execution_count": 17,
   "metadata": {
    "collapsed": false,
    "pycharm": {
     "name": "#%%\n"
    }
   },
   "outputs": [
    {
     "data": {
      "image/png": "[encoded data removed]",
      "text/plain": [
       "<Figure size 432x288 with 1 Axes>"
      ]
     },
     "metadata": {
      "needs_background": "light"
     },
     "output_type": "display_data"
    }
   ],
   "source": [
    "plt.pcolormesh(y_pred.detach().numpy().T, cmap=\"Greys\")\n",
    "plt.clim(0, 1)"
   ]
  },
  {
   "cell_type": "code",
   "execution_count": 19,
   "metadata": {
    "collapsed": false,
    "pycharm": {
     "name": "#%%\n"
    }
   },
   "outputs": [
    {
     "data": {
      "image/png": "[encoded data removed]",
      "text/plain": [
       "<Figure size 432x288 with 1 Axes>"
      ]
     },
     "metadata": {
      "needs_background": "light"
     },
     "output_type": "display_data"
    }
   ],
   "source": [
    "plt.pcolormesh(y_true.detach().numpy().T, cmap=\"Greys\")\n",
    "plt.clim(0, 1)"
   ]
  },
  {
   "cell_type": "code",
   "execution_count": 21,
   "metadata": {
    "collapsed": false,
    "pycharm": {
     "name": "#%%\n"
    }
   },
   "outputs": [
    {
     "data": {
      "text/plain": [
       "0.10810134628795842"
      ]
     },
     "execution_count": 21,
     "metadata": {},
     "output_type": "execute_result"
    }
   ],
   "source": [
    "partial_test(model, loss, get_loader(1000000, 1050000, 64 * 2))"
   ]
  },
  {
   "cell_type": "markdown",
   "metadata": {},
   "source": [
    "### Code below is not finished.  \n",
    "It could be used to test the predictive power of the model as a function of data size."
   ]
  },
  {
   "cell_type": "code",
   "execution_count": 3,
   "metadata": {
    "collapsed": false,
    "pycharm": {
     "name": "#%%\n"
    }
   },
   "outputs": [
    {
     "ename": "NameError",
     "evalue": "name 'torch' is not defined",
     "output_type": "error",
     "traceback": [
      "\u001b[0;31m---------------------------------------------------------------------------\u001b[0m",
      "\u001b[0;31mNameError\u001b[0m                                 Traceback (most recent call last)",
      "Input \u001b[0;32mIn [3]\u001b[0m, in \u001b[0;36m<cell line: 1>\u001b[0;34m()\u001b[0m\n\u001b[0;32m----> 1\u001b[0m opt \u001b[38;5;241m=\u001b[39m \u001b[43mtorch\u001b[49m\u001b[38;5;241m.\u001b[39moptim\u001b[38;5;241m.\u001b[39mAdam(model\u001b[38;5;241m.\u001b[39mparameters(), lr\u001b[38;5;241m=\u001b[39m\u001b[38;5;241m1e-3\u001b[39m)\n\u001b[1;32m      3\u001b[0m dt \u001b[38;5;241m=\u001b[39m \u001b[38;5;241m44100\u001b[39m \u001b[38;5;241m*\u001b[39m \u001b[38;5;241m2\u001b[39m\n\u001b[1;32m      4\u001b[0m \u001b[38;5;28;01mfor\u001b[39;00m i \u001b[38;5;129;01min\u001b[39;00m \u001b[38;5;28mrange\u001b[39m(\u001b[38;5;241m60\u001b[39m, \u001b[38;5;241m80\u001b[39m):\n",
      "\u001b[0;31mNameError\u001b[0m: name 'torch' is not defined"
     ]
    }
   ],
   "source": [
    "opt = torch.optim.Adam(model.parameters(), lr=1e-3)\n",
    "\n",
    "dt = 44100 * 2\n",
    "for i in range(60, 80):\n",
    "    t0 = i * dt\n",
    "    t1 = (i + 1) * dt\n",
    "    t2 = (i + 2) * dt\n",
    "\n",
    "    train_loss = partial_fit(2, model, loss, opt, get_loader(t0, t1, 64, shuffle=True))\n",
    "    print(f\"Loss of {train_loss:.5f} after training\")\n",
    "\n",
    "    # test_loss = partial_test(model, loss, get_loader(t1, t2, 128, workers=4))\n",
    "    # print(f\"Loss of {test_loss:.5f} on next chunk\")\n",
    "\n",
    "    y_pred, y_true = partial_predict(model, get_loader(t1, t2, 64))\n",
    "\n",
    "    fig = plt.figure(figsize=(12, 4))\n",
    "    plt.subplot(1, 2, 1)\n",
    "    plt.pcolormesh(y_pred.detach().numpy().T, cmap=\"Greys\")\n",
    "    plt.clim(0, 1)\n",
    "    plt.subplot(1, 2, 2)\n",
    "    plt.pcolormesh(y_true.detach().numpy().T, cmap=\"Greys\")\n",
    "    plt.clim(0, 1)\n",
    "    plt.show()\n",
    "    plt.close(fig)\n",
    "\n",
    "    first_window_loss = partial_test(model, loss, get_loader(0, dt, 64))\n",
    "    print(f\"Loss of {first_window_loss:.5f} on first window\")\n",
    "\n",
    "    print()"
   ]
  }
 ],
 "metadata": {
  "kernelspec": {
   "display_name": "Python 3 (ipykernel)",
   "language": "python",
   "name": "python3"
  },
  "language_info": {
   "codemirror_mode": {
    "name": "ipython",
    "version": 3
   },
   "file_extension": ".py",
   "mimetype": "text/x-python",
   "name": "python",
   "nbconvert_exporter": "python",
   "pygments_lexer": "ipython3",
   "version": "3.9.12"
  }
 },
 "nbformat": 4,
 "nbformat_minor": 5
}
