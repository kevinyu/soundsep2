{
 "cells": [
  {
   "cell_type": "code",
   "execution_count": 2,
   "id": "1b3c75b1-0d0a-4a86-bfa2-62de1f494018",
   "metadata": {},
   "outputs": [],
   "source": [
    "from pathlib import Path\n",
    "from typing import List, Tuple\n",
    "\n",
    "import matplotlib.pyplot as plt\n",
    "import numpy as np\n",
    "import pandas as pd\n",
    "import torch\n",
    "from torch import nn\n",
    "\n",
    "from soundsep import open_project"
   ]
  },
  {
   "cell_type": "code",
   "execution_count": 3,
   "metadata": {
    "collapsed": false,
    "pycharm": {
     "name": "#%%\n"
    }
   },
   "outputs": [],
   "source": [
    "%load_ext autoreload\n",
    "%autoreload 2"
   ]
  },
  {
   "cell_type": "code",
   "execution_count": 4,
   "id": "ea98f688-6125-45a8-86c0-c82c45b1fe2e",
   "metadata": {},
   "outputs": [],
   "source": [
    "project_dir = \"/Users/frederictheunissen/Local Data/SocialZF\"\n",
    "project = open_project(Path(project_dir))"
   ]
  },
  {
   "cell_type": "code",
   "execution_count": 5,
   "id": "7dbceca9-b6df-44c9-979e-05c35977a3da",
   "metadata": {},
   "outputs": [
    {
     "data": {
      "text/plain": [
       "<Project: 5 blocks>"
      ]
     },
     "execution_count": 5,
     "metadata": {},
     "output_type": "execute_result"
    }
   ],
   "source": [
    "project"
   ]
  },
  {
   "cell_type": "markdown",
   "id": "ce7045ee-d532-4eb9-b20f-79d06baf7c5c",
   "metadata": {},
   "source": [
    "## Incremental training of model\n",
    "\n",
    "Train on 10 minutes, test on next 10 minutes...\n",
    "\n",
    "1. Define the model (2 layer convolutional network)\n",
    "\n",
    "2. Define a data loader to train a given time range\n",
    "\n",
    "3. Train on time range\n",
    "\n",
    "4. Plot training data and prediction data"
   ]
  },
  {
   "cell_type": "code",
   "execution_count": 6,
   "metadata": {
    "collapsed": false,
    "pycharm": {
     "name": "#%%\n"
    }
   },
   "outputs": [],
   "source": [
    "from soundsep_prediction.dataset import DatasetParameters, SoundsepAudioDataset\n",
    "from soundsep_prediction.fit import partial_fit, partial_predict, partial_test\n",
    "from soundsep_prediction.models import PredictionNetwork\n",
    "from torch.utils.data import DataLoader\n",
    "\n",
    "segments = pd.read_csv(project_dir + \"/_appdata/save/segments.csv\")\n",
    "\n",
    "dataset = SoundsepAudioDataset(\n",
    "    project_dir=Path(project_dir),\n",
    "    syllable_table=segments,\n",
    "    source_names=segments.SourceName.unique()\n",
    ")"
   ]
  },
  {
   "cell_type": "code",
   "execution_count": 7,
   "metadata": {
    "collapsed": false,
    "pycharm": {
     "name": "#%%\n"
    }
   },
   "outputs": [],
   "source": [
    "def get_loader(start_index: int, stop_index: int, batch_size: int = 64, shuffle: bool = False, workers: int = 0):\n",
    "    \"\"\"Get a torch DataLoader from start_index to stop_index (in project indices)\"\"\"\n",
    "    ds = SoundsepAudioDataset(\n",
    "        project_dir=Path(project_dir),\n",
    "        syllable_table=segments,\n",
    "        source_names=segments.SourceName.unique(),\n",
    "        params=DatasetParameters(\n",
    "            from_index=start_index,\n",
    "            until_index=stop_index\n",
    "        )\n",
    "    )\n",
    "    return DataLoader(ds, batch_size=batch_size, shuffle=shuffle, num_workers=workers)"
   ]
  },
  {
   "cell_type": "code",
   "execution_count": 8,
   "id": "6b89cbc5-135b-45a8-8125-8cf7d9839129",
   "metadata": {},
   "outputs": [],
   "source": [
    "dl = get_loader(0, 4100000, 64)"
   ]
  },
  {
   "cell_type": "code",
   "execution_count": 9,
   "metadata": {},
   "outputs": [
    {
     "data": {
      "text/html": [
       "<div>\n",
       "<style scoped>\n",
       "    .dataframe tbody tr th:only-of-type {\n",
       "        vertical-align: middle;\n",
       "    }\n",
       "\n",
       "    .dataframe tbody tr th {\n",
       "        vertical-align: top;\n",
       "    }\n",
       "\n",
       "    .dataframe thead th {\n",
       "        text-align: right;\n",
       "    }\n",
       "</style>\n",
       "<table border=\"1\" class=\"dataframe\">\n",
       "  <thead>\n",
       "    <tr style=\"text-align: right;\">\n",
       "      <th></th>\n",
       "      <th>Unnamed: 0</th>\n",
       "      <th>SourceName</th>\n",
       "      <th>SourceChannel</th>\n",
       "      <th>StartIndex</th>\n",
       "      <th>StopIndex</th>\n",
       "      <th>Tags</th>\n",
       "    </tr>\n",
       "  </thead>\n",
       "  <tbody>\n",
       "    <tr>\n",
       "      <th>0</th>\n",
       "      <td>0</td>\n",
       "      <td>7 F</td>\n",
       "      <td>4</td>\n",
       "      <td>1965</td>\n",
       "      <td>5608</td>\n",
       "      <td>[\"DC\"]</td>\n",
       "    </tr>\n",
       "    <tr>\n",
       "      <th>1</th>\n",
       "      <td>1</td>\n",
       "      <td>4 M</td>\n",
       "      <td>1</td>\n",
       "      <td>7921</td>\n",
       "      <td>11282</td>\n",
       "      <td>[\"Te\"]</td>\n",
       "    </tr>\n",
       "    <tr>\n",
       "      <th>2</th>\n",
       "      <td>2</td>\n",
       "      <td>6 F</td>\n",
       "      <td>3</td>\n",
       "      <td>16612</td>\n",
       "      <td>18858</td>\n",
       "      <td>[\"Te\"]</td>\n",
       "    </tr>\n",
       "    <tr>\n",
       "      <th>3</th>\n",
       "      <td>3</td>\n",
       "      <td>7 F</td>\n",
       "      <td>4</td>\n",
       "      <td>18491</td>\n",
       "      <td>26651</td>\n",
       "      <td>[\"Be\"]</td>\n",
       "    </tr>\n",
       "    <tr>\n",
       "      <th>4</th>\n",
       "      <td>4</td>\n",
       "      <td>6 F</td>\n",
       "      <td>3</td>\n",
       "      <td>36030</td>\n",
       "      <td>37736</td>\n",
       "      <td>[\"Te\"]</td>\n",
       "    </tr>\n",
       "    <tr>\n",
       "      <th>...</th>\n",
       "      <td>...</td>\n",
       "      <td>...</td>\n",
       "      <td>...</td>\n",
       "      <td>...</td>\n",
       "      <td>...</td>\n",
       "      <td>...</td>\n",
       "    </tr>\n",
       "    <tr>\n",
       "      <th>269</th>\n",
       "      <td>269</td>\n",
       "      <td>7 F</td>\n",
       "      <td>4</td>\n",
       "      <td>3991039</td>\n",
       "      <td>3993070</td>\n",
       "      <td>[\"Te\"]</td>\n",
       "    </tr>\n",
       "    <tr>\n",
       "      <th>270</th>\n",
       "      <td>270</td>\n",
       "      <td>5 M</td>\n",
       "      <td>2</td>\n",
       "      <td>4027508</td>\n",
       "      <td>4028493</td>\n",
       "      <td>[\"Te\"]</td>\n",
       "    </tr>\n",
       "    <tr>\n",
       "      <th>271</th>\n",
       "      <td>271</td>\n",
       "      <td>6 F</td>\n",
       "      <td>3</td>\n",
       "      <td>4031643</td>\n",
       "      <td>4033288</td>\n",
       "      <td>[\"Te\"]</td>\n",
       "    </tr>\n",
       "    <tr>\n",
       "      <th>272</th>\n",
       "      <td>272</td>\n",
       "      <td>7 F</td>\n",
       "      <td>4</td>\n",
       "      <td>4039828</td>\n",
       "      <td>4041945</td>\n",
       "      <td>[\"Te\"]</td>\n",
       "    </tr>\n",
       "    <tr>\n",
       "      <th>273</th>\n",
       "      <td>273</td>\n",
       "      <td>6 F</td>\n",
       "      <td>3</td>\n",
       "      <td>4084977</td>\n",
       "      <td>4086720</td>\n",
       "      <td>[\"Te\"]</td>\n",
       "    </tr>\n",
       "  </tbody>\n",
       "</table>\n",
       "<p>274 rows × 6 columns</p>\n",
       "</div>"
      ],
      "text/plain": [
       "     Unnamed: 0 SourceName  SourceChannel  StartIndex  StopIndex    Tags\n",
       "0             0        7 F              4        1965       5608  [\"DC\"]\n",
       "1             1        4 M              1        7921      11282  [\"Te\"]\n",
       "2             2        6 F              3       16612      18858  [\"Te\"]\n",
       "3             3        7 F              4       18491      26651  [\"Be\"]\n",
       "4             4        6 F              3       36030      37736  [\"Te\"]\n",
       "..          ...        ...            ...         ...        ...     ...\n",
       "269         269        7 F              4     3991039    3993070  [\"Te\"]\n",
       "270         270        5 M              2     4027508    4028493  [\"Te\"]\n",
       "271         271        6 F              3     4031643    4033288  [\"Te\"]\n",
       "272         272        7 F              4     4039828    4041945  [\"Te\"]\n",
       "273         273        6 F              3     4084977    4086720  [\"Te\"]\n",
       "\n",
       "[274 rows x 6 columns]"
      ]
     },
     "execution_count": 9,
     "metadata": {},
     "output_type": "execute_result"
    }
   ],
   "source": [
    "dl.dataset.syllable_table"
   ]
  },
  {
   "cell_type": "code",
   "execution_count": 10,
   "metadata": {
    "collapsed": false,
    "pycharm": {
     "name": "#%%\n"
    }
   },
   "outputs": [],
   "source": [
    "model = PredictionNetwork(channels=5, output_channels=5)"
   ]
  },
  {
   "cell_type": "code",
   "execution_count": 11,
   "metadata": {
    "collapsed": false,
    "pycharm": {
     "name": "#%%\n"
    }
   },
   "outputs": [],
   "source": [
    "x1, y1 = next(iter(dl))"
   ]
  },
  {
   "cell_type": "code",
   "execution_count": 12,
   "metadata": {
    "collapsed": false,
    "pycharm": {
     "name": "#%%\n"
    }
   },
   "outputs": [],
   "source": [
    "spec = model.spec(x1)"
   ]
  },
  {
   "cell_type": "code",
   "execution_count": 13,
   "metadata": {
    "collapsed": false,
    "pycharm": {
     "name": "#%%\n"
    }
   },
   "outputs": [
    {
     "data": {
      "text/plain": [
       "<matplotlib.collections.QuadMesh at 0x7fd2c1198d00>"
      ]
     },
     "execution_count": 13,
     "metadata": {},
     "output_type": "execute_result"
    },
    {
     "data": {
      "image/png": "[encoded data removed]",
      "text/plain": [
       "<Figure size 432x288 with 1 Axes>"
      ]
     },
     "metadata": {
      "needs_background": "light"
     },
     "output_type": "display_data"
    }
   ],
   "source": [
    "plt.pcolormesh(spec[50][0], cmap=\"turbo\")"
   ]
  },
  {
   "cell_type": "code",
   "execution_count": 14,
   "metadata": {
    "collapsed": false,
    "pycharm": {
     "name": "#%%\n"
    }
   },
   "outputs": [
    {
     "data": {
      "text/plain": [
       "torch.Size([64, 1536])"
      ]
     },
     "execution_count": 14,
     "metadata": {},
     "output_type": "execute_result"
    }
   ],
   "source": [
    "model.layers(x1).shape"
   ]
  },
  {
   "cell_type": "code",
   "execution_count": 15,
   "metadata": {
    "collapsed": false,
    "pycharm": {
     "name": "#%%\n"
    }
   },
   "outputs": [
    {
     "data": {
      "text/plain": [
       "tensor([[-0.0363,  0.0227,  0.0340,  0.0446, -0.0327],\n",
       "        [-0.0089,  0.0055,  0.0524,  0.0461, -0.0211],\n",
       "        [-0.0158,  0.0150,  0.0241,  0.0383, -0.0119],\n",
       "        [-0.0169,  0.0142,  0.0459,  0.0214, -0.0216],\n",
       "        [-0.0117,  0.0163,  0.0520,  0.0271, -0.0130],\n",
       "        [-0.0358,  0.0210,  0.0371,  0.0555, -0.0114],\n",
       "        [-0.0225,  0.0027,  0.0451,  0.0297, -0.0323],\n",
       "        [-0.0487,  0.0276,  0.0518,  0.0534, -0.0273],\n",
       "        [-0.0355,  0.0214,  0.0508,  0.0291, -0.0089],\n",
       "        [-0.0329,  0.0210,  0.0467,  0.0491, -0.0313],\n",
       "        [-0.0244,  0.0269,  0.0283,  0.0290, -0.0287],\n",
       "        [-0.0184,  0.0119,  0.0333,  0.0200, -0.0267],\n",
       "        [-0.0262, -0.0072,  0.0418,  0.0361, -0.0136],\n",
       "        [-0.0034,  0.0192,  0.0315,  0.0396, -0.0355],\n",
       "        [-0.0250,  0.0115,  0.0252,  0.0498, -0.0294],\n",
       "        [-0.0228,  0.0176,  0.0329,  0.0193, -0.0097],\n",
       "        [-0.0245,  0.0068,  0.0390,  0.0422, -0.0119],\n",
       "        [-0.0225,  0.0140,  0.0527,  0.0400, -0.0214],\n",
       "        [-0.0206,  0.0202,  0.0551,  0.0356, -0.0041],\n",
       "        [-0.0397, -0.0063,  0.0400,  0.0344, -0.0276],\n",
       "        [-0.0156, -0.0040,  0.0413,  0.0544, -0.0210],\n",
       "        [-0.0215,  0.0298,  0.0447,  0.0313, -0.0345],\n",
       "        [-0.0140,  0.0124,  0.0439,  0.0477, -0.0153],\n",
       "        [-0.0171,  0.0139,  0.0207,  0.0101, -0.0215],\n",
       "        [-0.0451,  0.0180,  0.0481,  0.0437, -0.0192],\n",
       "        [-0.0276,  0.0206,  0.0376,  0.0301, -0.0382],\n",
       "        [-0.0118,  0.0201,  0.0192,  0.0450, -0.0240],\n",
       "        [-0.0295, -0.0081,  0.0401,  0.0351, -0.0137],\n",
       "        [-0.0194,  0.0150,  0.0407,  0.0358, -0.0006],\n",
       "        [-0.0421,  0.0189,  0.0336,  0.0433, -0.0359],\n",
       "        [-0.0233, -0.0044,  0.0422,  0.0246, -0.0239],\n",
       "        [-0.0349,  0.0280,  0.0354,  0.0563, -0.0309],\n",
       "        [-0.0166,  0.0109,  0.0498,  0.0327, -0.0186],\n",
       "        [-0.0140,  0.0237,  0.0431,  0.0127, -0.0238],\n",
       "        [-0.0349,  0.0184,  0.0397,  0.0355, -0.0072],\n",
       "        [-0.0101, -0.0038,  0.0320,  0.0215, -0.0271],\n",
       "        [-0.0106,  0.0132,  0.0012,  0.0301, -0.0164],\n",
       "        [-0.0403,  0.0026,  0.0734,  0.0426, -0.0254],\n",
       "        [-0.0032,  0.0125,  0.0294,  0.0188, -0.0279],\n",
       "        [-0.0267,  0.0338,  0.0405,  0.0218, -0.0087],\n",
       "        [-0.0456,  0.0345,  0.0393,  0.0318, -0.0350],\n",
       "        [-0.0226,  0.0006,  0.0381,  0.0288, -0.0172],\n",
       "        [-0.0106,  0.0073,  0.0428,  0.0094, -0.0077],\n",
       "        [-0.0170,  0.0168,  0.0391,  0.0535, -0.0087],\n",
       "        [-0.0193,  0.0258,  0.0505,  0.0346,  0.0026],\n",
       "        [-0.0238,  0.0153,  0.0426,  0.0404, -0.0434],\n",
       "        [-0.0262,  0.0138,  0.0352,  0.0134, -0.0289],\n",
       "        [-0.0244, -0.0161,  0.0411,  0.0323, -0.0136],\n",
       "        [-0.0317,  0.0035,  0.0346,  0.0570, -0.0221],\n",
       "        [-0.0423,  0.0310,  0.0399,  0.0533, -0.0211],\n",
       "        [-0.0123,  0.0023,  0.0317,  0.0351, -0.0173],\n",
       "        [-0.0178,  0.0072,  0.0498,  0.0405, -0.0004],\n",
       "        [-0.0189,  0.0201,  0.0525,  0.0325, -0.0165],\n",
       "        [-0.0090,  0.0139,  0.0392,  0.0404, -0.0232],\n",
       "        [-0.0226,  0.0076,  0.0468,  0.0510, -0.0210],\n",
       "        [-0.0261,  0.0321,  0.0291,  0.0343, -0.0134],\n",
       "        [-0.0099,  0.0122,  0.0430,  0.0383, -0.0273],\n",
       "        [-0.0285,  0.0020,  0.0333,  0.0425, -0.0038],\n",
       "        [-0.0390,  0.0157,  0.0206,  0.0230, -0.0182],\n",
       "        [-0.0094,  0.0119,  0.0471,  0.0425, -0.0073],\n",
       "        [-0.0235, -0.0018,  0.0476,  0.0178, -0.0144],\n",
       "        [-0.0206,  0.0080,  0.0385,  0.0397, -0.0250],\n",
       "        [-0.0100,  0.0200,  0.0436,  0.0395, -0.0160],\n",
       "        [-0.0276,  0.0185,  0.0198,  0.0231, -0.0143]],\n",
       "       grad_fn=<AddmmBackward0>)"
      ]
     },
     "execution_count": 15,
     "metadata": {},
     "output_type": "execute_result"
    }
   ],
   "source": [
    "model(x1)"
   ]
  },
  {
   "cell_type": "code",
   "execution_count": 16,
   "metadata": {
    "collapsed": false,
    "pycharm": {
     "name": "#%%\n"
    }
   },
   "outputs": [],
   "source": [
    "loss = nn.BCEWithLogitsLoss()\n",
    "opt = torch.optim.SGD(model.parameters(), lr=0.2)"
   ]
  },
  {
   "cell_type": "code",
   "execution_count": 17,
   "metadata": {
    "collapsed": false,
    "pycharm": {
     "name": "#%%\n"
    }
   },
   "outputs": [
    {
     "data": {
      "application/vnd.jupyter.widget-view+json": {
       "model_id": "0664444837504ff6a6d691222c09adfe",
       "version_major": 2,
       "version_minor": 0
      },
      "text/plain": [
       "  0%|          | 0/178 [00:00<?, ?it/s]"
      ]
     },
     "metadata": {},
     "output_type": "display_data"
    },
    {
     "data": {
      "text/plain": [
       "0.17445248877537436"
      ]
     },
     "execution_count": 17,
     "metadata": {},
     "output_type": "execute_result"
    }
   ],
   "source": [
    "partial_fit(1, model, loss, opt, get_loader(0, 1000000, 64 * 2, shuffle=True))"
   ]
  },
  {
   "cell_type": "code",
   "execution_count": 19,
   "metadata": {
    "collapsed": false,
    "pycharm": {
     "name": "#%%\n"
    }
   },
   "outputs": [
    {
     "data": {
      "text/plain": [
       "0.09492896260794051"
      ]
     },
     "execution_count": 19,
     "metadata": {},
     "output_type": "execute_result"
    }
   ],
   "source": [
    "partial_fit(1, model, loss, opt, get_loader(1000000, 2000000, 64 * 2, shuffle=True))"
   ]
  },
  {
   "cell_type": "code",
   "execution_count": 18,
   "metadata": {
    "collapsed": false,
    "pycharm": {
     "name": "#%%\n"
    }
   },
   "outputs": [
    {
     "ename": "",
     "evalue": "",
     "output_type": "error",
     "traceback": [
      "\u001b[1;31mThe Kernel crashed while executing code in the the current cell or a previous cell. Please review the code in the cell(s) to identify a possible cause of the failure. Click <a href='https://aka.ms/vscodeJupyterKernelCrash'>here</a> for more info. View Jupyter <a href='command:jupyter.viewOutput'>log</a> for further details."
     ]
    }
   ],
   "source": [
    "y_pred, y_true = partial_predict(model, get_loader(1000000, 2000000, 64 * 2))"
   ]
  },
  {
   "cell_type": "code",
   "execution_count": 21,
   "metadata": {
    "collapsed": false,
    "pycharm": {
     "name": "#%%\n"
    }
   },
   "outputs": [
    {
     "data": {
      "image/png": "[encoded data removed]",
      "text/plain": [
       "<Figure size 432x288 with 1 Axes>"
      ]
     },
     "metadata": {
      "needs_background": "light"
     },
     "output_type": "display_data"
    }
   ],
   "source": [
    "plt.pcolormesh(y_pred.detach().numpy().T, cmap=\"Greys\")\n",
    "plt.clim(0, 1)"
   ]
  },
  {
   "cell_type": "code",
   "execution_count": 22,
   "metadata": {
    "collapsed": false,
    "pycharm": {
     "name": "#%%\n"
    }
   },
   "outputs": [
    {
     "data": {
      "image/png": "[encoded data removed]",
      "text/plain": [
       "<Figure size 432x288 with 1 Axes>"
      ]
     },
     "metadata": {
      "needs_background": "light"
     },
     "output_type": "display_data"
    }
   ],
   "source": [
    "plt.pcolormesh(y_true.detach().numpy().T, cmap=\"Greys\")\n",
    "plt.clim(0, 1)"
   ]
  },
  {
   "cell_type": "code",
   "execution_count": 23,
   "metadata": {
    "collapsed": false,
    "pycharm": {
     "name": "#%%\n"
    }
   },
   "outputs": [
    {
     "data": {
      "text/plain": [
       "torch.Size([2004, 3])"
      ]
     },
     "execution_count": 23,
     "metadata": {},
     "output_type": "execute_result"
    }
   ],
   "source": [
    "y_true.shape"
   ]
  },
  {
   "cell_type": "code",
   "execution_count": 24,
   "metadata": {
    "collapsed": false,
    "pycharm": {
     "name": "#%%\n"
    }
   },
   "outputs": [
    {
     "data": {
      "text/plain": [
       "0.12097388880105796"
      ]
     },
     "execution_count": 24,
     "metadata": {},
     "output_type": "execute_result"
    }
   ],
   "source": [
    "partial_test(model, loss, get_loader(1000, 6000, 64 * 2))"
   ]
  },
  {
   "cell_type": "code",
   "execution_count": null,
   "metadata": {
    "collapsed": false,
    "pycharm": {
     "name": "#%%\n"
    }
   },
   "outputs": [],
   "source": [
    "model = PredictionNetwork(channels=4, output_channels=3)\n",
    "loss = nn.BCEWithLogitsLoss()"
   ]
  },
  {
   "cell_type": "code",
   "execution_count": 3,
   "metadata": {
    "collapsed": false,
    "pycharm": {
     "name": "#%%\n"
    }
   },
   "outputs": [
    {
     "ename": "NameError",
     "evalue": "name 'torch' is not defined",
     "output_type": "error",
     "traceback": [
      "\u001b[0;31m---------------------------------------------------------------------------\u001b[0m",
      "\u001b[0;31mNameError\u001b[0m                                 Traceback (most recent call last)",
      "Input \u001b[0;32mIn [3]\u001b[0m, in \u001b[0;36m<cell line: 1>\u001b[0;34m()\u001b[0m\n\u001b[0;32m----> 1\u001b[0m opt \u001b[38;5;241m=\u001b[39m \u001b[43mtorch\u001b[49m\u001b[38;5;241m.\u001b[39moptim\u001b[38;5;241m.\u001b[39mAdam(model\u001b[38;5;241m.\u001b[39mparameters(), lr\u001b[38;5;241m=\u001b[39m\u001b[38;5;241m1e-3\u001b[39m)\n\u001b[1;32m      3\u001b[0m dt \u001b[38;5;241m=\u001b[39m \u001b[38;5;241m44100\u001b[39m \u001b[38;5;241m*\u001b[39m \u001b[38;5;241m2\u001b[39m\n\u001b[1;32m      4\u001b[0m \u001b[38;5;28;01mfor\u001b[39;00m i \u001b[38;5;129;01min\u001b[39;00m \u001b[38;5;28mrange\u001b[39m(\u001b[38;5;241m60\u001b[39m, \u001b[38;5;241m80\u001b[39m):\n",
      "\u001b[0;31mNameError\u001b[0m: name 'torch' is not defined"
     ]
    }
   ],
   "source": [
    "opt = torch.optim.Adam(model.parameters(), lr=1e-3)\n",
    "\n",
    "dt = 44100 * 2\n",
    "for i in range(60, 80):\n",
    "    t0 = i * dt\n",
    "    t1 = (i + 1) * dt\n",
    "    t2 = (i + 2) * dt\n",
    "\n",
    "    train_loss = partial_fit(2, model, loss, opt, get_loader(t0, t1, 64, shuffle=True))\n",
    "    print(f\"Loss of {train_loss:.5f} after training\")\n",
    "\n",
    "    # test_loss = partial_test(model, loss, get_loader(t1, t2, 128, workers=4))\n",
    "    # print(f\"Loss of {test_loss:.5f} on next chunk\")\n",
    "\n",
    "    y_pred, y_true = partial_predict(model, get_loader(t1, t2, 64))\n",
    "\n",
    "    fig = plt.figure(figsize=(12, 4))\n",
    "    plt.subplot(1, 2, 1)\n",
    "    plt.pcolormesh(y_pred.detach().numpy().T, cmap=\"Greys\")\n",
    "    plt.clim(0, 1)\n",
    "    plt.subplot(1, 2, 2)\n",
    "    plt.pcolormesh(y_true.detach().numpy().T, cmap=\"Greys\")\n",
    "    plt.clim(0, 1)\n",
    "    plt.show()\n",
    "    plt.close(fig)\n",
    "\n",
    "    first_window_loss = partial_test(model, loss, get_loader(0, dt, 64))\n",
    "    print(f\"Loss of {first_window_loss:.5f} on first window\")\n",
    "\n",
    "    print()"
   ]
  },
  {
   "cell_type": "code",
   "execution_count": 1,
   "metadata": {
    "collapsed": false,
    "pycharm": {
     "name": "#%%\n"
    }
   },
   "outputs": [
    {
     "ename": "NameError",
     "evalue": "name 'plt' is not defined",
     "output_type": "error",
     "traceback": [
      "\u001b[0;31m---------------------------------------------------------------------------\u001b[0m",
      "\u001b[0;31mNameError\u001b[0m                                 Traceback (most recent call last)",
      "Input \u001b[0;32mIn [1]\u001b[0m, in \u001b[0;36m<cell line: 1>\u001b[0;34m()\u001b[0m\n\u001b[0;32m----> 1\u001b[0m \u001b[43mplt\u001b[49m\u001b[38;5;241m.\u001b[39mpcolormesh(y1\u001b[38;5;241m.\u001b[39msqueeze()\u001b[38;5;241m.\u001b[39mT)\n",
      "\u001b[0;31mNameError\u001b[0m: name 'plt' is not defined"
     ]
    }
   ],
   "source": [
    "plt.pcolormesh(y1.squeeze().T)"
   ]
  },
  {
   "cell_type": "code",
   "execution_count": 2,
   "metadata": {
    "collapsed": false,
    "pycharm": {
     "name": "#%%\n"
    }
   },
   "outputs": [
    {
     "name": "stdout",
     "output_type": "stream",
     "text": [
      "hi\n"
     ]
    }
   ],
   "source": [
    "print(\"hi\")"
   ]
  },
  {
   "cell_type": "code",
   "execution_count": null,
   "metadata": {
    "collapsed": false,
    "pycharm": {
     "name": "#%%\n"
    }
   },
   "outputs": [],
   "source": []
  }
 ],
 "metadata": {
  "kernelspec": {
   "display_name": "Python 3 (ipykernel)",
   "language": "python",
   "name": "python3"
  },
  "language_info": {
   "codemirror_mode": {
    "name": "ipython",
    "version": 3
   },
   "file_extension": ".py",
   "mimetype": "text/x-python",
   "name": "python",
   "nbconvert_exporter": "python",
   "pygments_lexer": "ipython3",
   "version": "3.9.12"
  }
 },
 "nbformat": 4,
 "nbformat_minor": 5
}
